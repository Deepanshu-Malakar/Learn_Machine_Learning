{
  "nbformat": 4,
  "nbformat_minor": 0,
  "metadata": {
    "colab": {
      "provenance": [],
      "gpuType": "T4",
      "authorship_tag": "ABX9TyN56DtpEYzUQ3BU1VTcMdby",
      "include_colab_link": true
    },
    "kernelspec": {
      "name": "python3",
      "display_name": "Python 3"
    },
    "language_info": {
      "name": "python"
    },
    "accelerator": "GPU"
  },
  "cells": [
    {
      "cell_type": "markdown",
      "metadata": {
        "id": "view-in-github",
        "colab_type": "text"
      },
      "source": [
        "<a href=\"https://colab.research.google.com/github/Deepanshu-Malakar/Learn_Machine_Learning/blob/main/numpy_and_pytorch.ipynb\" target=\"_parent\"><img src=\"https://colab.research.google.com/assets/colab-badge.svg\" alt=\"Open In Colab\"/></a>"
      ]
    },
    {
      "cell_type": "code",
      "execution_count": 5,
      "metadata": {
        "colab": {
          "base_uri": "https://localhost:8080/"
        },
        "id": "Cf1t37aLScML",
        "outputId": "c322e3d3-9117-4378-dbd1-6e888b691c77"
      },
      "outputs": [
        {
          "output_type": "stream",
          "name": "stdout",
          "text": [
            "2.4.0+cu121\n"
          ]
        }
      ],
      "source": [
        "import numpy as np\n",
        "import torch\n",
        "print(torch.__version__)"
      ]
    },
    {
      "cell_type": "markdown",
      "source": [
        "#**Conversions**\n",
        "1. How to convert a numpy array into a tensor\n",
        "2. How to convert a tensor to a numpy array\n",
        "\n",
        "**Note:** A numpy array default data type is float64 whereas for tensor is float32\n"
      ],
      "metadata": {
        "id": "b5h4jbacU5f5"
      }
    },
    {
      "cell_type": "code",
      "source": [
        "array=np.arange(1.0,10.0)\n",
        "print(f\"numpy array is: {array}\")\n",
        "#array to tensor\n",
        "tensor=torch.from_numpy(array)\n",
        "print(f\"tensor of array is: {tensor}\")\n",
        "#tensor to array\n",
        "numpy_tensor=tensor.numpy()\n",
        "print(f\"tensor converted back to array is: {numpy_tensor}\")"
      ],
      "metadata": {
        "colab": {
          "base_uri": "https://localhost:8080/"
        },
        "id": "fp_JJiFfVfIS",
        "outputId": "1d189fff-01be-441b-e815-a4caf99fa8b4"
      },
      "execution_count": 6,
      "outputs": [
        {
          "output_type": "stream",
          "name": "stdout",
          "text": [
            "numpy array is: [1. 2. 3. 4. 5. 6. 7. 8. 9.]\n",
            "tensor of array is: tensor([1., 2., 3., 4., 5., 6., 7., 8., 9.], dtype=torch.float64)\n",
            "tensor converted back to array is: [1. 2. 3. 4. 5. 6. 7. 8. 9.]\n"
          ]
        }
      ]
    },
    {
      "cell_type": "markdown",
      "source": [
        "#**Checking for GPU**"
      ],
      "metadata": {
        "id": "jxcj2N3XbTWT"
      }
    },
    {
      "cell_type": "code",
      "source": [
        "device=\"cuda\" if torch.cuda.is_available() else \"cpu\"\n",
        "print(device)"
      ],
      "metadata": {
        "colab": {
          "base_uri": "https://localhost:8080/"
        },
        "id": "KuWMJfVZbakJ",
        "outputId": "f9b0e02d-1c4f-4a2e-a83f-f723cafbcbf7"
      },
      "execution_count": 8,
      "outputs": [
        {
          "output_type": "stream",
          "name": "stdout",
          "text": [
            "cpu\n"
          ]
        }
      ]
    },
    {
      "cell_type": "markdown",
      "source": [
        "**moving a  tensor to GPU if Available**"
      ],
      "metadata": {
        "id": "1XSLiC6nkUys"
      }
    },
    {
      "cell_type": "code",
      "source": [
        "tensor=torch.randint(low=3,high=300,size=(3,4))\n",
        "print(tensor)\n",
        "tensor_gpu=tensor.to(device)\n",
        "print(device)  #in my case GPU is not currently available"
      ],
      "metadata": {
        "colab": {
          "base_uri": "https://localhost:8080/"
        },
        "id": "adHL4j1BkZ_B",
        "outputId": "cbbd5ec7-d827-42d5-e04f-1797b444ded3"
      },
      "execution_count": 11,
      "outputs": [
        {
          "output_type": "stream",
          "name": "stdout",
          "text": [
            "tensor([[ 75, 288,  85, 223],\n",
            "        [ 49,  34, 210,  89],\n",
            "        [ 19,   4, 184, 217]])\n",
            "cpu\n"
          ]
        }
      ]
    },
    {
      "cell_type": "markdown",
      "source": [
        "#Moving a tensor back to CPU. But why?\n",
        "Numpy dosent work on a gpu so in order to perform operations with numpy, you have to move the tensor back to cpu"
      ],
      "metadata": {
        "id": "0mQ-L8pck93x"
      }
    },
    {
      "cell_type": "code",
      "source": [
        "tensor_cpu=tensor_gpu.cpu().numpy()\n",
        "print(tensor_cpu)"
      ],
      "metadata": {
        "colab": {
          "base_uri": "https://localhost:8080/"
        },
        "id": "0hDLYPeJlXjf",
        "outputId": "2646171d-1705-47c1-81fe-0294cfdd7e78"
      },
      "execution_count": 12,
      "outputs": [
        {
          "output_type": "stream",
          "name": "stdout",
          "text": [
            "[[ 75 288  85 223]\n",
            " [ 49  34 210  89]\n",
            " [ 19   4 184 217]]\n"
          ]
        }
      ]
    }
  ]
}