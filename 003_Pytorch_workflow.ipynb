{
  "nbformat": 4,
  "nbformat_minor": 0,
  "metadata": {
    "colab": {
      "provenance": [],
      "gpuType": "T4",
      "authorship_tag": "ABX9TyNccOc2DXV11/vas6N3Q6uB",
      "include_colab_link": true
    },
    "kernelspec": {
      "name": "python3",
      "display_name": "Python 3"
    },
    "language_info": {
      "name": "python"
    },
    "accelerator": "GPU"
  },
  "cells": [
    {
      "cell_type": "markdown",
      "metadata": {
        "id": "view-in-github",
        "colab_type": "text"
      },
      "source": [
        "<a href=\"https://colab.research.google.com/github/Deepanshu-Malakar/Learn_Machine_Learning/blob/main/003_Pytorch_workflow.ipynb\" target=\"_parent\"><img src=\"https://colab.research.google.com/assets/colab-badge.svg\" alt=\"Open In Colab\"/></a>"
      ]
    },
    {
      "cell_type": "markdown",
      "source": [
        "# **Setting up Pytorch to build neural network**"
      ],
      "metadata": {
        "id": "kT-Ta3rbsd0S"
      }
    },
    {
      "cell_type": "code",
      "execution_count": 1,
      "metadata": {
        "id": "Yu8fcXTIrSDu"
      },
      "outputs": [],
      "source": [
        "import torch\n",
        "from torch import nn  #nn stands for neural network\n",
        "import numpy as np\n",
        "import matplotlib.pyplot as plt\n"
      ]
    },
    {
      "cell_type": "markdown",
      "source": [
        "# **Setting up GPU if available**"
      ],
      "metadata": {
        "id": "-ncI1AeQsr0b"
      }
    },
    {
      "cell_type": "code",
      "source": [
        "device=\"cuda\" if torch.cuda.is_available() else \"cpu\"\n",
        "print(device)"
      ],
      "metadata": {
        "colab": {
          "base_uri": "https://localhost:8080/"
        },
        "id": "LBKCuQyTr53w",
        "outputId": "d1e40c63-9ea7-4ffe-c551-11644c53aea1"
      },
      "execution_count": 2,
      "outputs": [
        {
          "output_type": "stream",
          "name": "stdout",
          "text": [
            "cuda\n"
          ]
        }
      ]
    },
    {
      "cell_type": "markdown",
      "source": [
        "#**Preparing and loading Data**<br>\n",
        "data in machine learning can be anything that can be represented in numbers."
      ],
      "metadata": {
        "id": "8htL6RhEUUqo"
      }
    },
    {
      "cell_type": "markdown",
      "source": [
        "Build a **known** dataset using linear regression\n",
        "linear regression\n",
        "Y=a+bX\n",
        "create weight and baises<br>\n",
        "here **a** is **bias** and **b** is **weight**"
      ],
      "metadata": {
        "id": "URg9_HLIVZIl"
      }
    },
    {
      "cell_type": "code",
      "source": [
        "weight =0.7\n",
        "bais = 0.3\n",
        "x=torch.arange(0.,50.,1.)\n",
        "print(x)\n",
        "y=weight*x + bais\n",
        "print(y)\n"
      ],
      "metadata": {
        "id": "TaghWiWTUlO-",
        "colab": {
          "base_uri": "https://localhost:8080/"
        },
        "outputId": "ed68c9ef-885a-43bb-9314-ed90f93cb48f"
      },
      "execution_count": 13,
      "outputs": [
        {
          "output_type": "stream",
          "name": "stdout",
          "text": [
            "tensor([ 0.,  1.,  2.,  3.,  4.,  5.,  6.,  7.,  8.,  9., 10., 11., 12., 13.,\n",
            "        14., 15., 16., 17., 18., 19., 20., 21., 22., 23., 24., 25., 26., 27.,\n",
            "        28., 29., 30., 31., 32., 33., 34., 35., 36., 37., 38., 39., 40., 41.,\n",
            "        42., 43., 44., 45., 46., 47., 48., 49.])\n",
            "tensor([ 0.3000,  1.0000,  1.7000,  2.4000,  3.1000,  3.8000,  4.5000,  5.2000,\n",
            "         5.9000,  6.6000,  7.3000,  8.0000,  8.7000,  9.4000, 10.1000, 10.8000,\n",
            "        11.5000, 12.2000, 12.9000, 13.6000, 14.3000, 15.0000, 15.7000, 16.4000,\n",
            "        17.1000, 17.8000, 18.5000, 19.2000, 19.9000, 20.6000, 21.3000, 22.0000,\n",
            "        22.7000, 23.4000, 24.1000, 24.8000, 25.5000, 26.2000, 26.9000, 27.6000,\n",
            "        28.3000, 29.0000, 29.7000, 30.4000, 31.1000, 31.8000, 32.5000, 33.2000,\n",
            "        33.9000, 34.6000])\n"
          ]
        }
      ]
    },
    {
      "cell_type": "markdown",
      "source": [
        "Splitting the data into training data and testing data\n",
        "\n",
        "80% of the data will be used for training and remaining for testing"
      ],
      "metadata": {
        "id": "nYDXWQflrj5N"
      }
    },
    {
      "cell_type": "code",
      "source": [
        "train_split = int(0.8*len(x))\n",
        "x_train=x[:train_split]\n",
        "y_train=y[:train_split]\n",
        "\n",
        "x_test=x[train_split:]\n",
        "y_test=y[train_split:]\n",
        "\n",
        "print(\"X train:\")\n",
        "print(x_train)\n",
        "print(\"X test:\")\n",
        "print(x_test)\n",
        "print(\"Y train:\")\n",
        "print(y_train)\n",
        "print(\"Y test:\")\n",
        "print(y_test)"
      ],
      "metadata": {
        "colab": {
          "base_uri": "https://localhost:8080/"
        },
        "id": "vTrV2oh6rx5-",
        "outputId": "a12b8fa1-98d7-4378-b79c-50be185e9bc6"
      },
      "execution_count": 14,
      "outputs": [
        {
          "output_type": "stream",
          "name": "stdout",
          "text": [
            "X train:\n",
            "tensor([ 0.,  1.,  2.,  3.,  4.,  5.,  6.,  7.,  8.,  9., 10., 11., 12., 13.,\n",
            "        14., 15., 16., 17., 18., 19., 20., 21., 22., 23., 24., 25., 26., 27.,\n",
            "        28., 29., 30., 31., 32., 33., 34., 35., 36., 37., 38., 39.])\n",
            "X test:\n",
            "tensor([40., 41., 42., 43., 44., 45., 46., 47., 48., 49.])\n",
            "Y train:\n",
            "tensor([ 0.3000,  1.0000,  1.7000,  2.4000,  3.1000,  3.8000,  4.5000,  5.2000,\n",
            "         5.9000,  6.6000,  7.3000,  8.0000,  8.7000,  9.4000, 10.1000, 10.8000,\n",
            "        11.5000, 12.2000, 12.9000, 13.6000, 14.3000, 15.0000, 15.7000, 16.4000,\n",
            "        17.1000, 17.8000, 18.5000, 19.2000, 19.9000, 20.6000, 21.3000, 22.0000,\n",
            "        22.7000, 23.4000, 24.1000, 24.8000, 25.5000, 26.2000, 26.9000, 27.6000])\n",
            "Y test:\n",
            "tensor([28.3000, 29.0000, 29.7000, 30.4000, 31.1000, 31.8000, 32.5000, 33.2000,\n",
            "        33.9000, 34.6000])\n"
          ]
        }
      ]
    },
    {
      "cell_type": "markdown",
      "source": [
        "Plotting our predictions"
      ],
      "metadata": {
        "id": "5n1tKReWtz0d"
      }
    },
    {
      "cell_type": "code",
      "source": [
        "def plot(train_data,train_label,test_data,test_label,y_predicted=None):\n",
        "  plt.figure(figsize=(10*0.5,7*0.5))\n",
        "\n",
        "\n",
        "  plt.scatter(train_data,train_label,c=\"b\",s=4,label=\"train data\")\n",
        "  plt.scatter(test_data,test_label,c=\"g\",s=4,label=\"test data\")\n",
        "\n",
        "  if y_predicted is not None:\n",
        "    plt.scatter(train_data,y_predicted,c=\"g\",s=4,label=\"Predictions\")\n",
        "\n",
        "  plt.legend()\n",
        "plot(x_train,y_train,x_test,y_test)"
      ],
      "metadata": {
        "colab": {
          "base_uri": "https://localhost:8080/",
          "height": 330
        },
        "id": "Vhb3cd-6tzPN",
        "outputId": "07a79533-8f99-4448-cdeb-09fd1001535f"
      },
      "execution_count": 21,
      "outputs": [
        {
          "output_type": "display_data",
          "data": {
            "text/plain": [
              "<Figure size 500x350 with 1 Axes>"
            ],
            "image/png": "[encoded data removed]"
          },
          "metadata": {}
        }
      ]
    },
    {
      "cell_type": "markdown",
      "source": [
        "# Build a Linear Regression Model"
      ],
      "metadata": {
        "id": "f3sE0Ef8ygVM"
      }
    },
    {
      "cell_type": "code",
      "source": [
        "#create a linear regression model class\n",
        "\n",
        "class model(nn.Module):\n",
        "  def __init__(self):\n",
        "    super().__init__()\n",
        "\n",
        "    self.weight=nn.parameter(torch.randn(1,requires_grad=True,dtype=float))\n",
        "    self.bias=nn.parameter(torch.randn(1,requires_grad=True,dtype=float))\n",
        "  def forward(self,x:torch.Tensor)->torch.Tensor:\n",
        "    return x*self.weight + self.bias\n"
      ],
      "metadata": {
        "id": "Km4PWDy9x9Ju"
      },
      "execution_count": null,
      "outputs": []
    }
  ]
}