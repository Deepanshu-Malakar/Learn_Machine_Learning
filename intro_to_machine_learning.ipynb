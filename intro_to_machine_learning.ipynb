{
  "nbformat": 4,
  "nbformat_minor": 0,
  "metadata": {
    "colab": {
      "provenance": [],
      "gpuType": "T4",
      "authorship_tag": "ABX9TyNhhlouIdv4HBvyPwWpbeud",
      "include_colab_link": true
    },
    "kernelspec": {
      "name": "python3",
      "display_name": "Python 3"
    },
    "language_info": {
      "name": "python"
    },
    "accelerator": "GPU"
  },
  "cells": [
    {
      "cell_type": "markdown",
      "metadata": {
        "id": "view-in-github",
        "colab_type": "text"
      },
      "source": [
        "<a href=\"https://colab.research.google.com/github/Deepanshu-Malakar/Learn_Machine_Learning/blob/main/intro_to_machine_learning.ipynb\" target=\"_parent\"><img src=\"https://colab.research.google.com/assets/colab-badge.svg\" alt=\"Open In Colab\"/></a>"
      ]
    },
    {
      "cell_type": "code",
      "execution_count": 1,
      "metadata": {
        "id": "LKFqO6Wd0ONB",
        "colab": {
          "base_uri": "https://localhost:8080/"
        },
        "outputId": "1c11ef3c-e5b7-4ce2-a8fd-8cb414141cc1"
      },
      "outputs": [
        {
          "output_type": "stream",
          "name": "stdout",
          "text": [
            "2.4.0+cu121\n"
          ]
        }
      ],
      "source": [
        "import torch\n",
        "import numpy as np\n",
        "import pandas as pd\n",
        "import matplotlib.pyplot as plt\n",
        "print(torch.__version__)\n",
        "\n"
      ]
    },
    {
      "cell_type": "code",
      "source": [
        "#introduction\n",
        "scalar=torch.tensor(7)\n",
        "print(scalar)"
      ],
      "metadata": {
        "colab": {
          "base_uri": "https://localhost:8080/"
        },
        "id": "RmOjq1NN00O3",
        "outputId": "a70a72bb-3baf-4fb9-896b-f3b874851c17"
      },
      "execution_count": 2,
      "outputs": [
        {
          "output_type": "stream",
          "name": "stdout",
          "text": [
            "tensor(7)\n"
          ]
        }
      ]
    },
    {
      "cell_type": "markdown",
      "source": [
        "Properties of Scalars"
      ],
      "metadata": {
        "id": "uhVrfox7auLH"
      }
    },
    {
      "cell_type": "code",
      "source": [
        "#to get dimension of tensor\n",
        "print(\"dimension of scalar is :\",scalar.ndim)\n",
        "#to get tensor back as integer\n",
        "print(\"value of scalar is: \",scalar.item())"
      ],
      "metadata": {
        "id": "9MXNiSNw1INc",
        "colab": {
          "base_uri": "https://localhost:8080/"
        },
        "outputId": "62291e13-ae22-4af3-c1b0-350849b9e0db"
      },
      "execution_count": 3,
      "outputs": [
        {
          "output_type": "stream",
          "name": "stdout",
          "text": [
            "dimension of scalar is : 0\n",
            "value of scalar is:  7\n"
          ]
        }
      ]
    },
    {
      "cell_type": "markdown",
      "source": [
        "vector"
      ],
      "metadata": {
        "id": "qTa3yY0ub60m"
      }
    },
    {
      "cell_type": "code",
      "source": [
        "vector=torch.tensor([7,7])\n",
        "print(vector)\n",
        "print(\"dimension of vector :\",vector.ndim)\n",
        "print(\"shape of vector : \",vector.shape)\n",
        "vector2=torch.tensor([[2,4,3],\n",
        "                     [4,5,3]])\n",
        "print(vector2)\n",
        "print(\"dimension of vector2 :\",vector2.ndim)\n",
        "print(\"shape of vector2 : \",vector2.shape)"
      ],
      "metadata": {
        "colab": {
          "base_uri": "https://localhost:8080/"
        },
        "id": "oMO73v7Qb5jP",
        "outputId": "c0e5ab05-109d-469a-cfc0-896bc64cf71d"
      },
      "execution_count": 4,
      "outputs": [
        {
          "output_type": "stream",
          "name": "stdout",
          "text": [
            "tensor([7, 7])\n",
            "dimension of vector : 1\n",
            "shape of vector :  torch.Size([2])\n",
            "tensor([[2, 4, 3],\n",
            "        [4, 5, 3]])\n",
            "dimension of vector2 : 2\n",
            "shape of vector2 :  torch.Size([2, 3])\n"
          ]
        }
      ]
    },
    {
      "cell_type": "markdown",
      "source": [
        "Random tensors\n"
      ],
      "metadata": {
        "id": "ZMerzKtuRX0M"
      }
    },
    {
      "cell_type": "code",
      "source": [
        "random_tensor = torch.rand(4,3,3)\n",
        "print(random_tensor)"
      ],
      "metadata": {
        "colab": {
          "base_uri": "https://localhost:8080/"
        },
        "id": "t8AaiY2zRXLk",
        "outputId": "7e99596b-6d6e-48cd-8f69-2e2af9b50793"
      },
      "execution_count": 5,
      "outputs": [
        {
          "output_type": "stream",
          "name": "stdout",
          "text": [
            "tensor([[[0.9765, 0.4750, 0.4945],\n",
            "         [0.9440, 0.3850, 0.3169],\n",
            "         [0.4955, 0.9334, 0.8088]],\n",
            "\n",
            "        [[0.0157, 0.9532, 0.7681],\n",
            "         [0.0267, 0.4719, 0.2537],\n",
            "         [0.6471, 0.6080, 0.4251]],\n",
            "\n",
            "        [[0.3490, 0.8143, 0.4270],\n",
            "         [0.9217, 0.9240, 0.1643],\n",
            "         [0.9107, 0.3223, 0.8080]],\n",
            "\n",
            "        [[0.5301, 0.2126, 0.2722],\n",
            "         [0.4820, 0.8461, 0.8014],\n",
            "         [0.3683, 0.2885, 0.2289]]])\n"
          ]
        }
      ]
    },
    {
      "cell_type": "markdown",
      "source": [
        "Image tensor"
      ],
      "metadata": {
        "id": "LJrKtZziTDjW"
      }
    },
    {
      "cell_type": "code",
      "source": [
        "random_image_tensor=torch.rand(size=(224,224,3)) #height width color_channels(rgb)\n",
        "print(\"shape: \",random_image_tensor.shape)\n",
        "print(\"dimension: \",random_image_tensor.ndim)"
      ],
      "metadata": {
        "colab": {
          "base_uri": "https://localhost:8080/"
        },
        "id": "iEunC9EfTG-C",
        "outputId": "ee0f2ec5-694f-4a48-beb8-15f94f65790d"
      },
      "execution_count": 6,
      "outputs": [
        {
          "output_type": "stream",
          "name": "stdout",
          "text": [
            "shape:  torch.Size([224, 224, 3])\n",
            "dimension:  3\n"
          ]
        }
      ]
    },
    {
      "cell_type": "markdown",
      "source": [
        "**Zeroes and Ones**"
      ],
      "metadata": {
        "id": "xSHn9i1TUeba"
      }
    },
    {
      "cell_type": "code",
      "source": [
        "zeroes=torch.zeros(3,4)\n",
        "ones=torch.ones(3,4)\n",
        "print(zeroes)\n",
        "print(\"\\n\")\n",
        "print(ones)\n"
      ],
      "metadata": {
        "colab": {
          "base_uri": "https://localhost:8080/"
        },
        "id": "X-moz0JuUdth",
        "outputId": "c3c14e20-3904-492e-f664-c866cf72a094"
      },
      "execution_count": 7,
      "outputs": [
        {
          "output_type": "stream",
          "name": "stdout",
          "text": [
            "tensor([[0., 0., 0., 0.],\n",
            "        [0., 0., 0., 0.],\n",
            "        [0., 0., 0., 0.]])\n",
            "\n",
            "\n",
            "tensor([[1., 1., 1., 1.],\n",
            "        [1., 1., 1., 1.],\n",
            "        [1., 1., 1., 1.]])\n"
          ]
        }
      ]
    },
    {
      "cell_type": "markdown",
      "source": [
        "Creating Range of tensors"
      ],
      "metadata": {
        "id": "-XKP60YVV1aG"
      }
    },
    {
      "cell_type": "code",
      "source": [
        "#use torch.arange(start,end,step)   creates an AP with a=start an=end d=step\n",
        "#  doesnot include the end element\n",
        "range1=torch.arange(start=1,end=21,step=2)\n",
        "print(range1)\n",
        "range2=torch.arange(start=5,end=32,step=4)\n",
        "print(range2)"
      ],
      "metadata": {
        "colab": {
          "base_uri": "https://localhost:8080/"
        },
        "id": "ouv7ipUvV02j",
        "outputId": "dd570a0f-ab00-493f-ddb2-b641f0a67b49"
      },
      "execution_count": 8,
      "outputs": [
        {
          "output_type": "stream",
          "name": "stdout",
          "text": [
            "tensor([ 1,  3,  5,  7,  9, 11, 13, 15, 17, 19])\n",
            "tensor([ 5,  9, 13, 17, 21, 25, 29])\n"
          ]
        }
      ]
    },
    {
      "cell_type": "markdown",
      "source": [
        "Tensors like (creating a tensor with same shape like another tensor)"
      ],
      "metadata": {
        "id": "f4JWoFX4XQhf"
      }
    },
    {
      "cell_type": "code",
      "source": [
        "tensor_like=torch.rand_like(input=random_tensor)\n",
        "print(tensor_like)"
      ],
      "metadata": {
        "colab": {
          "base_uri": "https://localhost:8080/"
        },
        "id": "at0mecvdXZx5",
        "outputId": "dc7f893e-635b-41b8-ecc3-460e9f4a20b5"
      },
      "execution_count": 9,
      "outputs": [
        {
          "output_type": "stream",
          "name": "stdout",
          "text": [
            "tensor([[[0.6243, 0.7747, 0.3761],\n",
            "         [0.8427, 0.2766, 0.2829],\n",
            "         [0.3185, 0.5819, 0.1375]],\n",
            "\n",
            "        [[0.4087, 0.9808, 0.6963],\n",
            "         [0.9542, 0.4102, 0.9638],\n",
            "         [0.7390, 0.8528, 0.1041]],\n",
            "\n",
            "        [[0.7169, 0.4065, 0.0201],\n",
            "         [0.9874, 0.7025, 0.8486],\n",
            "         [0.8138, 0.5847, 0.6472]],\n",
            "\n",
            "        [[0.9502, 0.5242, 0.6382],\n",
            "         [0.7719, 0.7837, 0.3171],\n",
            "         [0.7428, 0.3891, 0.0130]]])\n"
          ]
        }
      ]
    },
    {
      "cell_type": "markdown",
      "source": [
        "**Getting Information from tensors**\n",
        "1)Tensor Manupulation *(Tensor operations)*"
      ],
      "metadata": {
        "id": "WakUwtKJ_2Ke"
      }
    },
    {
      "cell_type": "code",
      "source": [
        "t=torch.tensor([1,2,3,4])\n",
        "print(\"tensor: \",t)\n",
        "print(\"tensor + 1: \",t+1)\n",
        "print(\"tensor - 1: \",t-1)\n",
        "print(\"tensor * 10: \",t*10)\n",
        "print(\"tensor / 10: \",t/10)\n"
      ],
      "metadata": {
        "colab": {
          "base_uri": "https://localhost:8080/"
        },
        "id": "W9XYw6aT_7Mk",
        "outputId": "f15f002b-3f94-4030-fa40-668fca705310"
      },
      "execution_count": 10,
      "outputs": [
        {
          "output_type": "stream",
          "name": "stdout",
          "text": [
            "tensor:  tensor([1, 2, 3, 4])\n",
            "tensor + 1:  tensor([2, 3, 4, 5])\n",
            "tensor - 1:  tensor([0, 1, 2, 3])\n",
            "tensor * 10:  tensor([10, 20, 30, 40])\n",
            "tensor / 10:  tensor([0.1000, 0.2000, 0.3000, 0.4000])\n"
          ]
        }
      ]
    },
    {
      "cell_type": "markdown",
      "source": [
        "Matrix Multiplication"
      ],
      "metadata": {
        "id": "S-O6RFt-CRbP"
      }
    },
    {
      "cell_type": "code",
      "source": [
        "#element wise matrix multiplication\n",
        "tensor1=torch.tensor([1,2,3])\n",
        "tensor2=torch.tensor([4,5,6])\n",
        "print(f\"{tensor1}*{tensor2}={tensor1*tensor2}\")\n"
      ],
      "metadata": {
        "colab": {
          "base_uri": "https://localhost:8080/"
        },
        "id": "E7KQTQL7CUut",
        "outputId": "aff04b91-ccd7-442a-bb82-51bd8f22f8fd"
      },
      "execution_count": 11,
      "outputs": [
        {
          "output_type": "stream",
          "name": "stdout",
          "text": [
            "tensor([1, 2, 3])*tensor([4, 5, 6])=tensor([ 4, 10, 18])\n"
          ]
        }
      ]
    },
    {
      "cell_type": "markdown",
      "source": [
        "Dot product of tensors"
      ],
      "metadata": {
        "id": "K9acs_2nI09m"
      }
    },
    {
      "cell_type": "code",
      "source": [
        "print(tensor1.matmul(tensor2))\n",
        "print(\"note that 32=4+10+18\")"
      ],
      "metadata": {
        "colab": {
          "base_uri": "https://localhost:8080/"
        },
        "id": "7FSlHpuWI400",
        "outputId": "90d0ca9c-cea0-4318-e438-f31a8f6b43a2"
      },
      "execution_count": 12,
      "outputs": [
        {
          "output_type": "stream",
          "name": "stdout",
          "text": [
            "tensor(32)\n",
            "note that 32=4+10+18\n"
          ]
        }
      ]
    },
    {
      "cell_type": "code",
      "source": [
        "tensor1=torch.randint(low=0,high=5,size=(2,3))\n",
        "tensor2=torch.randint(low=0,high=5,size=(3,4))\n",
        "print(\"tensor1:\")\n",
        "print(tensor1)\n",
        "print(\"tensor2:\")\n",
        "print(tensor2)\n",
        "print(f\"tensor1 x tensor2 =\\n{tensor1.matmul(tensor2)}\")"
      ],
      "metadata": {
        "colab": {
          "base_uri": "https://localhost:8080/"
        },
        "id": "zCclFlNeJXia",
        "outputId": "fc36f056-48e0-43e1-9a2c-22e10925c832"
      },
      "execution_count": 13,
      "outputs": [
        {
          "output_type": "stream",
          "name": "stdout",
          "text": [
            "tensor1:\n",
            "tensor([[3, 4, 0],\n",
            "        [0, 1, 3]])\n",
            "tensor2:\n",
            "tensor([[2, 1, 1, 1],\n",
            "        [3, 0, 4, 0],\n",
            "        [4, 3, 4, 4]])\n",
            "tensor1 x tensor2 =\n",
            "tensor([[18,  3, 19,  3],\n",
            "        [15,  9, 16, 12]])\n"
          ]
        }
      ]
    },
    {
      "cell_type": "markdown",
      "source": [
        "Finding min , max , mean , sum of tensors (tensor aggregation)"
      ],
      "metadata": {
        "id": "_oWEY7KCn-HO"
      }
    },
    {
      "cell_type": "code",
      "source": [
        "print(\"tensor: \")\n",
        "print(tensor1)\n",
        "print(f\"min : {tensor1.min()}\")\n",
        "print(f\"max : {tensor1.max()}\")\n",
        "print(f\"mean : {tensor1.type(torch.float32).mean()}\")   #note mean requires float32 type tensor\n",
        "\n",
        "#to change data type of a tensor write\n",
        "print(\"float 32 tensor is: \")\n",
        "print(tensor1.type(torch.float32))"
      ],
      "metadata": {
        "id": "9qRgQTneoH86",
        "colab": {
          "base_uri": "https://localhost:8080/"
        },
        "outputId": "f5606efe-384a-41ca-af58-e75b125b6913"
      },
      "execution_count": 18,
      "outputs": [
        {
          "output_type": "stream",
          "name": "stdout",
          "text": [
            "tensor: \n",
            "tensor([[3, 4, 0],\n",
            "        [0, 1, 3]])\n",
            "min : 0\n",
            "max : 4\n",
            "mean : 1.8333333730697632\n",
            "float 32 tensor is: \n",
            "tensor([[3., 4., 0.],\n",
            "        [0., 1., 3.]])\n"
          ]
        }
      ]
    },
    {
      "cell_type": "markdown",
      "source": [
        "# **Positional min and max**\n",
        "find the position of minimum and maximum element in the tensor.\n",
        "use argmin() and argmax() functions"
      ],
      "metadata": {
        "id": "d9l9ME6gW4Sv"
      }
    },
    {
      "cell_type": "code",
      "source": [
        "print(f\"tensor:\\n{tensor1}\")\n",
        "print(f\"min index : {tensor1.argmin()} and minimum element is {tensor1.min()}\")\n",
        "print(f\"max index : {tensor1.argmax()} and maximum element is {tensor1.max()}\")\n",
        "\n",
        "tensor2=torch.tensor([[1,3,5],\n",
        "                      [6,1,3]])\n",
        "print(\"\\n\")\n",
        "print(f\"tensor:\\n{tensor2}\")\n",
        "print(f\"min index : {tensor2.argmin()} and minimum element is {tensor2.min()}\")\n",
        "print(f\"max index : {tensor2.argmax()} and maximum element is {tensor2.max()}\")\n"
      ],
      "metadata": {
        "colab": {
          "base_uri": "https://localhost:8080/"
        },
        "id": "PqSyjVQlWqMx",
        "outputId": "b0a50844-e0f5-4a48-a941-1494f4b85e55"
      },
      "execution_count": 21,
      "outputs": [
        {
          "output_type": "stream",
          "name": "stdout",
          "text": [
            "tensor:\n",
            "tensor([[3, 4, 0],\n",
            "        [0, 1, 3]])\n",
            "min index : 2 and minimum element is 0\n",
            "max index : 1 and maximum element is 4\n",
            "\n",
            "\n",
            "tensor:\n",
            "tensor([[1, 3, 5],\n",
            "        [6, 1, 3]])\n",
            "min index : 0 and minimum element is 1\n",
            "max index : 3 and maximum element is 6\n"
          ]
        }
      ]
    }
  ]
}