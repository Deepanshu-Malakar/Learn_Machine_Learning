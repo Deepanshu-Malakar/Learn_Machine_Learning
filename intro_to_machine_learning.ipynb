{
  "nbformat": 4,
  "nbformat_minor": 0,
  "metadata": {
    "colab": {
      "provenance": [],
      "gpuType": "T4",
      "authorship_tag": "ABX9TyNkVm3y8G65Xkck45YDvr/l",
      "include_colab_link": true
    },
    "kernelspec": {
      "name": "python3",
      "display_name": "Python 3"
    },
    "language_info": {
      "name": "python"
    },
    "accelerator": "GPU"
  },
  "cells": [
    {
      "cell_type": "markdown",
      "metadata": {
        "id": "view-in-github",
        "colab_type": "text"
      },
      "source": [
        "<a href=\"https://colab.research.google.com/github/Deepanshu-Malakar/Learn_Machine_Learning/blob/main/intro_to_machine_learning.ipynb\" target=\"_parent\"><img src=\"https://colab.research.google.com/assets/colab-badge.svg\" alt=\"Open In Colab\"/></a>"
      ]
    },
    {
      "cell_type": "code",
      "execution_count": 4,
      "metadata": {
        "id": "LKFqO6Wd0ONB",
        "colab": {
          "base_uri": "https://localhost:8080/"
        },
        "outputId": "67131113-3861-4913-f4a2-ef177ce23ffa"
      },
      "outputs": [
        {
          "output_type": "stream",
          "name": "stdout",
          "text": [
            "2.4.0+cu121\n"
          ]
        }
      ],
      "source": [
        "import torch\n",
        "import numpy as np\n",
        "import pandas as pd\n",
        "import matplotlib.pyplot as plt\n",
        "print(torch.__version__)\n",
        "\n"
      ]
    },
    {
      "cell_type": "code",
      "source": [
        "#introduction\n",
        "scalar=torch.tensor(7)\n",
        "print(scalar)"
      ],
      "metadata": {
        "colab": {
          "base_uri": "https://localhost:8080/"
        },
        "id": "RmOjq1NN00O3",
        "outputId": "ac021796-1846-4168-bfc3-f619d015c7fa"
      },
      "execution_count": 5,
      "outputs": [
        {
          "output_type": "stream",
          "name": "stdout",
          "text": [
            "tensor(7)\n"
          ]
        }
      ]
    },
    {
      "cell_type": "markdown",
      "source": [
        "Properties of Scalars"
      ],
      "metadata": {
        "id": "uhVrfox7auLH"
      }
    },
    {
      "cell_type": "code",
      "source": [
        "#to get dimension of tensor\n",
        "print(\"dimension of scalar is :\",scalar.ndim)\n",
        "#to get tensor back as integer\n",
        "print(\"value of scalar is: \",scalar.item())"
      ],
      "metadata": {
        "id": "9MXNiSNw1INc",
        "colab": {
          "base_uri": "https://localhost:8080/"
        },
        "outputId": "a1a4cfb7-9511-45df-9633-7f1bcd5c1dc1"
      },
      "execution_count": 6,
      "outputs": [
        {
          "output_type": "stream",
          "name": "stdout",
          "text": [
            "dimension of scalar is : 0\n",
            "value of scalar is:  7\n"
          ]
        }
      ]
    },
    {
      "cell_type": "markdown",
      "source": [
        "vector"
      ],
      "metadata": {
        "id": "qTa3yY0ub60m"
      }
    },
    {
      "cell_type": "code",
      "source": [
        "vector=torch.tensor([7,7])\n",
        "print(vector)\n",
        "print(\"dimension of vector :\",vector.ndim)\n",
        "print(\"shape of vector : \",vector.shape)\n",
        "vector2=torch.tensor([[2,4,3],\n",
        "                     [4,5,3]])\n",
        "print(vector2)\n",
        "print(\"dimension of vector2 :\",vector2.ndim)\n",
        "print(\"shape of vector2 : \",vector2.shape)"
      ],
      "metadata": {
        "colab": {
          "base_uri": "https://localhost:8080/"
        },
        "id": "oMO73v7Qb5jP",
        "outputId": "122f5725-9c54-4d39-90f3-6c97af102c42"
      },
      "execution_count": 7,
      "outputs": [
        {
          "output_type": "stream",
          "name": "stdout",
          "text": [
            "tensor([7, 7])\n",
            "dimension of vector : 1\n",
            "shape of vector :  torch.Size([2])\n",
            "tensor([[2, 4, 3],\n",
            "        [4, 5, 3]])\n",
            "dimension of vector2 : 2\n",
            "shape of vector2 :  torch.Size([2, 3])\n"
          ]
        }
      ]
    },
    {
      "cell_type": "markdown",
      "source": [
        "Random tensors\n"
      ],
      "metadata": {
        "id": "ZMerzKtuRX0M"
      }
    },
    {
      "cell_type": "code",
      "source": [
        "random_tensor = torch.rand(4,3,3)\n",
        "print(random_tensor)"
      ],
      "metadata": {
        "colab": {
          "base_uri": "https://localhost:8080/"
        },
        "id": "t8AaiY2zRXLk",
        "outputId": "aebf9aa5-b402-4127-9fe3-ac050b09fd4a"
      },
      "execution_count": 8,
      "outputs": [
        {
          "output_type": "stream",
          "name": "stdout",
          "text": [
            "tensor([[[0.1397, 0.5479, 0.0854],\n",
            "         [0.2239, 0.8903, 0.5136],\n",
            "         [0.6869, 0.0796, 0.2853]],\n",
            "\n",
            "        [[0.0055, 0.1481, 0.7302],\n",
            "         [0.3547, 0.5276, 0.8882],\n",
            "         [0.0181, 0.0804, 0.8437]],\n",
            "\n",
            "        [[0.5183, 0.3224, 0.3596],\n",
            "         [0.0097, 0.7672, 0.2761],\n",
            "         [0.1389, 0.2322, 0.1007]],\n",
            "\n",
            "        [[0.3289, 0.7317, 0.0948],\n",
            "         [0.5507, 0.4067, 0.1304],\n",
            "         [0.6642, 0.7919, 0.0703]]])\n"
          ]
        }
      ]
    },
    {
      "cell_type": "markdown",
      "source": [
        "Image tensor"
      ],
      "metadata": {
        "id": "LJrKtZziTDjW"
      }
    },
    {
      "cell_type": "code",
      "source": [
        "random_image_tensor=torch.rand(size=(224,224,3)) #height width color_channels(rgb)\n",
        "print(\"shape: \",random_image_tensor.shape)\n",
        "print(\"dimension: \",random_image_tensor.ndim)"
      ],
      "metadata": {
        "colab": {
          "base_uri": "https://localhost:8080/"
        },
        "id": "iEunC9EfTG-C",
        "outputId": "248a83ff-89c8-443a-afe6-9de283fd833a"
      },
      "execution_count": 9,
      "outputs": [
        {
          "output_type": "stream",
          "name": "stdout",
          "text": [
            "shape:  torch.Size([224, 224, 3])\n",
            "dimension:  3\n"
          ]
        }
      ]
    },
    {
      "cell_type": "markdown",
      "source": [
        "**Zeroes and Ones**"
      ],
      "metadata": {
        "id": "xSHn9i1TUeba"
      }
    },
    {
      "cell_type": "code",
      "source": [
        "zeroes=torch.zeros(3,4)\n",
        "ones=torch.ones(3,4)\n",
        "print(zeroes)\n",
        "print(\"\\n\")\n",
        "print(ones)\n"
      ],
      "metadata": {
        "colab": {
          "base_uri": "https://localhost:8080/"
        },
        "id": "X-moz0JuUdth",
        "outputId": "0743b96f-b590-4e5a-ef96-a840e09a2f88"
      },
      "execution_count": 10,
      "outputs": [
        {
          "output_type": "stream",
          "name": "stdout",
          "text": [
            "tensor([[0., 0., 0., 0.],\n",
            "        [0., 0., 0., 0.],\n",
            "        [0., 0., 0., 0.]])\n",
            "\n",
            "\n",
            "tensor([[1., 1., 1., 1.],\n",
            "        [1., 1., 1., 1.],\n",
            "        [1., 1., 1., 1.]])\n"
          ]
        }
      ]
    },
    {
      "cell_type": "markdown",
      "source": [
        "Creating Range of tensors"
      ],
      "metadata": {
        "id": "-XKP60YVV1aG"
      }
    },
    {
      "cell_type": "code",
      "source": [
        "#use torch.arange(start,end,step)   creates an AP with a=start an=end d=step\n",
        "#  doesnot include the end element\n",
        "range1=torch.arange(start=1,end=21,step=2)\n",
        "print(range1)\n",
        "range2=torch.arange(start=5,end=32,step=4)\n",
        "print(range2)"
      ],
      "metadata": {
        "colab": {
          "base_uri": "https://localhost:8080/"
        },
        "id": "ouv7ipUvV02j",
        "outputId": "dbb13b76-6ada-427a-d5bd-3ce84c135a96"
      },
      "execution_count": 11,
      "outputs": [
        {
          "output_type": "stream",
          "name": "stdout",
          "text": [
            "tensor([ 1,  3,  5,  7,  9, 11, 13, 15, 17, 19])\n",
            "tensor([ 5,  9, 13, 17, 21, 25, 29])\n"
          ]
        }
      ]
    },
    {
      "cell_type": "markdown",
      "source": [
        "Tensors like (creating a tensor with same shape like another tensor)"
      ],
      "metadata": {
        "id": "f4JWoFX4XQhf"
      }
    },
    {
      "cell_type": "code",
      "source": [
        "tensor_like=torch.rand_like(input=random_tensor)\n",
        "print(tensor_like)"
      ],
      "metadata": {
        "colab": {
          "base_uri": "https://localhost:8080/"
        },
        "id": "at0mecvdXZx5",
        "outputId": "b4646a38-5854-49aa-cc45-d2a54f205cd3"
      },
      "execution_count": 12,
      "outputs": [
        {
          "output_type": "stream",
          "name": "stdout",
          "text": [
            "tensor([[[0.1116, 0.5543, 0.6756],\n",
            "         [0.1522, 0.7549, 0.4520],\n",
            "         [0.2180, 0.5062, 0.6830]],\n",
            "\n",
            "        [[0.9105, 0.7631, 0.1681],\n",
            "         [0.4750, 0.8319, 0.4886],\n",
            "         [0.7988, 0.3097, 0.4728]],\n",
            "\n",
            "        [[0.6464, 0.6604, 0.5675],\n",
            "         [0.4440, 0.2182, 0.9497],\n",
            "         [0.0089, 0.5283, 0.2284]],\n",
            "\n",
            "        [[0.6635, 0.1583, 0.9920],\n",
            "         [0.8167, 0.0999, 0.5537],\n",
            "         [0.9770, 0.6508, 0.1503]]])\n"
          ]
        }
      ]
    },
    {
      "cell_type": "markdown",
      "source": [
        "**Getting Information from tensors**\n",
        "1)Tensor Manupulation *(Tensor operations)*"
      ],
      "metadata": {
        "id": "WakUwtKJ_2Ke"
      }
    },
    {
      "cell_type": "code",
      "source": [
        "t=torch.tensor([1,2,3,4])\n",
        "print(\"tensor: \",t)\n",
        "print(\"tensor + 1: \",t+1)\n",
        "print(\"tensor - 1: \",t-1)\n",
        "print(\"tensor * 10: \",t*10)\n",
        "print(\"tensor / 10: \",t/10)\n"
      ],
      "metadata": {
        "colab": {
          "base_uri": "https://localhost:8080/"
        },
        "id": "W9XYw6aT_7Mk",
        "outputId": "818bfa3e-2045-4298-f27d-7d160d3803d9"
      },
      "execution_count": 13,
      "outputs": [
        {
          "output_type": "stream",
          "name": "stdout",
          "text": [
            "tensor:  tensor([1, 2, 3, 4])\n",
            "tensor + 1:  tensor([2, 3, 4, 5])\n",
            "tensor - 1:  tensor([0, 1, 2, 3])\n",
            "tensor * 10:  tensor([10, 20, 30, 40])\n",
            "tensor / 10:  tensor([0.1000, 0.2000, 0.3000, 0.4000])\n"
          ]
        }
      ]
    },
    {
      "cell_type": "markdown",
      "source": [
        "Matrix Multiplication"
      ],
      "metadata": {
        "id": "S-O6RFt-CRbP"
      }
    },
    {
      "cell_type": "code",
      "source": [
        "#element wise matrix multiplication\n",
        "tensor1=torch.tensor([1,2,3])\n",
        "tensor2=torch.tensor([4,5,6])\n",
        "print(f\"{tensor1}*{tensor2}={tensor1*tensor2}\")\n"
      ],
      "metadata": {
        "colab": {
          "base_uri": "https://localhost:8080/"
        },
        "id": "E7KQTQL7CUut",
        "outputId": "4300b31c-53a3-4819-b269-530f9e4ccc6e"
      },
      "execution_count": 14,
      "outputs": [
        {
          "output_type": "stream",
          "name": "stdout",
          "text": [
            "tensor([1, 2, 3])*tensor([4, 5, 6])=tensor([ 4, 10, 18])\n"
          ]
        }
      ]
    },
    {
      "cell_type": "markdown",
      "source": [
        "Dot product of tensors"
      ],
      "metadata": {
        "id": "K9acs_2nI09m"
      }
    },
    {
      "cell_type": "code",
      "source": [
        "print(tensor1.matmul(tensor2))\n",
        "print(\"note that 32=4+10+18\")"
      ],
      "metadata": {
        "colab": {
          "base_uri": "https://localhost:8080/"
        },
        "id": "7FSlHpuWI400",
        "outputId": "10204852-3f30-4094-8f33-58dfa2f860b8"
      },
      "execution_count": 15,
      "outputs": [
        {
          "output_type": "stream",
          "name": "stdout",
          "text": [
            "tensor(32)\n",
            "note that 32=4+10+18\n"
          ]
        }
      ]
    },
    {
      "cell_type": "code",
      "source": [
        "tensor1=torch.randint(low=0,high=5,size=(2,3))\n",
        "tensor2=torch.randint(low=0,high=5,size=(3,4))\n",
        "print(\"tensor1:\")\n",
        "print(tensor1)\n",
        "print(\"tensor2:\")\n",
        "print(tensor2)\n",
        "print(f\"tensor1 x tensor2 =\\n{tensor1.matmul(tensor2)}\")"
      ],
      "metadata": {
        "colab": {
          "base_uri": "https://localhost:8080/"
        },
        "id": "zCclFlNeJXia",
        "outputId": "7554614e-9975-4569-a272-38f743670bde"
      },
      "execution_count": 16,
      "outputs": [
        {
          "output_type": "stream",
          "name": "stdout",
          "text": [
            "tensor1:\n",
            "tensor([[1, 0, 0],\n",
            "        [1, 0, 0]])\n",
            "tensor2:\n",
            "tensor([[4, 3, 2, 4],\n",
            "        [2, 3, 2, 2],\n",
            "        [2, 1, 3, 3]])\n",
            "tensor1 x tensor2 =\n",
            "tensor([[4, 3, 2, 4],\n",
            "        [4, 3, 2, 4]])\n"
          ]
        }
      ]
    },
    {
      "cell_type": "markdown",
      "source": [
        "Finding min , max , mean , sum of tensors (tensor aggregation)"
      ],
      "metadata": {
        "id": "_oWEY7KCn-HO"
      }
    },
    {
      "cell_type": "code",
      "source": [
        "print(\"tensor: \")\n",
        "print(tensor1)\n",
        "print(f\"min : {tensor1.min()}\")\n",
        "print(f\"max : {tensor1.max()}\")\n",
        "print(f\"mean : {tensor1.type(torch.float32).mean()}\")   #note mean requires float32 type tensor\n",
        "\n",
        "#to change data type of a tensor write\n",
        "print(\"float 32 tensor is: \")\n",
        "print(tensor1.type(torch.float32))"
      ],
      "metadata": {
        "id": "9qRgQTneoH86",
        "colab": {
          "base_uri": "https://localhost:8080/"
        },
        "outputId": "84b04be2-75d9-41e8-ee4f-e4f2cb41318a"
      },
      "execution_count": 17,
      "outputs": [
        {
          "output_type": "stream",
          "name": "stdout",
          "text": [
            "tensor: \n",
            "tensor([[1, 0, 0],\n",
            "        [1, 0, 0]])\n",
            "min : 0\n",
            "max : 1\n",
            "mean : 0.3333333432674408\n",
            "float 32 tensor is: \n",
            "tensor([[1., 0., 0.],\n",
            "        [1., 0., 0.]])\n"
          ]
        }
      ]
    },
    {
      "cell_type": "markdown",
      "source": [
        "# **Positional min and max**\n",
        "find the position of minimum and maximum element in the tensor.\n",
        "use argmin() and argmax() functions"
      ],
      "metadata": {
        "id": "d9l9ME6gW4Sv"
      }
    },
    {
      "cell_type": "code",
      "source": [
        "print(f\"tensor:\\n{tensor1}\")\n",
        "print(f\"min index : {tensor1.argmin()} and minimum element is {tensor1.min()}\")\n",
        "print(f\"max index : {tensor1.argmax()} and maximum element is {tensor1.max()}\")\n",
        "\n",
        "tensor2=torch.tensor([[1,3,5],\n",
        "                      [6,1,3]])\n",
        "print(\"\\n\")\n",
        "print(f\"tensor:\\n{tensor2}\")\n",
        "print(f\"min index : {tensor2.argmin()} and minimum element is {tensor2.min()}\")\n",
        "print(f\"max index : {tensor2.argmax()} and maximum element is {tensor2.max()}\")\n"
      ],
      "metadata": {
        "colab": {
          "base_uri": "https://localhost:8080/"
        },
        "id": "PqSyjVQlWqMx",
        "outputId": "5758332a-b359-4b36-c630-1458d262d043"
      },
      "execution_count": 18,
      "outputs": [
        {
          "output_type": "stream",
          "name": "stdout",
          "text": [
            "tensor:\n",
            "tensor([[1, 0, 0],\n",
            "        [1, 0, 0]])\n",
            "min index : 1 and minimum element is 0\n",
            "max index : 0 and maximum element is 1\n",
            "\n",
            "\n",
            "tensor:\n",
            "tensor([[1, 3, 5],\n",
            "        [6, 1, 3]])\n",
            "min index : 0 and minimum element is 1\n",
            "max index : 3 and maximum element is 6\n"
          ]
        }
      ]
    },
    {
      "cell_type": "markdown",
      "source": [
        "#reshaping stacking squezing and unsquezing tensors\n",
        "\n",
        "\n",
        "1.   **reshaping** - change the shape of tensor to a new shape\n",
        "2. **view** - view a tensor in new shape but it change the original tensor\n",
        "3.   **stacking** - combining multiple tensors on top of each other-(vstack)   side by side-(hstack)\n",
        "4.  **squeze**- remove 1 dimension from tensor\n",
        "5.  **unsqueze** - add 1 dimension to a tensor\n",
        "6. **permute**- return the view of input with dimensions permutted i,e swapped in a certain way.\n",
        "\n"
      ],
      "metadata": {
        "id": "riKyeRPZc9_h"
      }
    },
    {
      "cell_type": "code",
      "source": [
        "x=torch.arange(1,10,1)\n",
        "print(x)\n",
        "y=x.reshape(3,3) #note new dimensions must be compatible with the old dimensions you cannot provide new dimensions like  1,7 since 1*7=7 and we have 9 elements in our tensor\n",
        "print(\"tensor reshaped as (3,3)\")\n",
        "print(y)"
      ],
      "metadata": {
        "colab": {
          "base_uri": "https://localhost:8080/"
        },
        "id": "qOt7ABkGe6Ix",
        "outputId": "a0ac8a4e-075d-4e20-f859-16bb6d622512"
      },
      "execution_count": 19,
      "outputs": [
        {
          "output_type": "stream",
          "name": "stdout",
          "text": [
            "tensor([1, 2, 3, 4, 5, 6, 7, 8, 9])\n",
            "tensor reshaped as (3,3)\n",
            "tensor([[1, 2, 3],\n",
            "        [4, 5, 6],\n",
            "        [7, 8, 9]])\n"
          ]
        }
      ]
    },
    {
      "cell_type": "code",
      "source": [
        "#view\n",
        "print(x)\n",
        "z=x.view(3,3)\n",
        "print(x)\n",
        "print(z)\n",
        "z[0]=5\n",
        "print(x)\n",
        "print(z)\n",
        "#x and z shares the same location and hence changing z will change x"
      ],
      "metadata": {
        "colab": {
          "base_uri": "https://localhost:8080/"
        },
        "id": "lYCaoGWQitEu",
        "outputId": "11353175-dcc5-496e-d59e-d0813eb586b9"
      },
      "execution_count": 20,
      "outputs": [
        {
          "output_type": "stream",
          "name": "stdout",
          "text": [
            "tensor([1, 2, 3, 4, 5, 6, 7, 8, 9])\n",
            "tensor([1, 2, 3, 4, 5, 6, 7, 8, 9])\n",
            "tensor([[1, 2, 3],\n",
            "        [4, 5, 6],\n",
            "        [7, 8, 9]])\n",
            "tensor([5, 5, 5, 4, 5, 6, 7, 8, 9])\n",
            "tensor([[5, 5, 5],\n",
            "        [4, 5, 6],\n",
            "        [7, 8, 9]])\n"
          ]
        }
      ]
    },
    {
      "cell_type": "code",
      "source": [
        "#stack tensors on top of each other\n",
        "print(x,\"\\n\")\n",
        "z=torch.stack([x,x])\n",
        "print(z,\"\\n\")\n",
        "z=torch.stack([x,x,x])\n",
        "print(z,\"\\n\")\n",
        "z=torch.stack([x,x],dim=1)\n",
        "print(z,\"\\n\")\n",
        "z=torch.stack([x,x,x],dim=1)\n",
        "print(z,\"\\n\")"
      ],
      "metadata": {
        "colab": {
          "base_uri": "https://localhost:8080/"
        },
        "id": "d1o2tQB-kVjM",
        "outputId": "d74c9c71-7335-4a51-c83b-b43129e6e135"
      },
      "execution_count": 28,
      "outputs": [
        {
          "output_type": "stream",
          "name": "stdout",
          "text": [
            "tensor([5, 5, 5, 4, 5, 6, 7, 8, 9]) \n",
            "\n",
            "tensor([[5, 5, 5, 4, 5, 6, 7, 8, 9],\n",
            "        [5, 5, 5, 4, 5, 6, 7, 8, 9]]) \n",
            "\n",
            "tensor([[5, 5, 5, 4, 5, 6, 7, 8, 9],\n",
            "        [5, 5, 5, 4, 5, 6, 7, 8, 9],\n",
            "        [5, 5, 5, 4, 5, 6, 7, 8, 9]]) \n",
            "\n",
            "tensor([[5, 5],\n",
            "        [5, 5],\n",
            "        [5, 5],\n",
            "        [4, 4],\n",
            "        [5, 5],\n",
            "        [6, 6],\n",
            "        [7, 7],\n",
            "        [8, 8],\n",
            "        [9, 9]]) \n",
            "\n",
            "tensor([[5, 5, 5],\n",
            "        [5, 5, 5],\n",
            "        [5, 5, 5],\n",
            "        [4, 4, 4],\n",
            "        [5, 5, 5],\n",
            "        [6, 6, 6],\n",
            "        [7, 7, 7],\n",
            "        [8, 8, 8],\n",
            "        [9, 9, 9]]) \n",
            "\n"
          ]
        }
      ]
    },
    {
      "cell_type": "code",
      "source": [
        "#squezing tensors\n",
        "print(x,\"\\n\")\n",
        "z=x+2\n",
        "z=torch.stack([x,z,z*2])\n",
        "print(z,\"\\n\")\n",
        "print(z.squeeze(),\"\\n\")\n"
      ],
      "metadata": {
        "colab": {
          "base_uri": "https://localhost:8080/"
        },
        "id": "k8MsDwtymt5q",
        "outputId": "b5a46476-1b6e-4080-9aa9-61a53a2af89c"
      },
      "execution_count": 34,
      "outputs": [
        {
          "output_type": "stream",
          "name": "stdout",
          "text": [
            "tensor([5, 5, 5, 4, 5, 6, 7, 8, 9]) \n",
            "\n",
            "tensor([[ 5,  5,  5,  4,  5,  6,  7,  8,  9],\n",
            "        [ 7,  7,  7,  6,  7,  8,  9, 10, 11],\n",
            "        [14, 14, 14, 12, 14, 16, 18, 20, 22]]) \n",
            "\n",
            "tensor([[ 5,  5,  5,  4,  5,  6,  7,  8,  9],\n",
            "        [ 7,  7,  7,  6,  7,  8,  9, 10, 11],\n",
            "        [14, 14, 14, 12, 14, 16, 18, 20, 22]]) \n",
            "\n"
          ]
        }
      ]
    }
  ]
}