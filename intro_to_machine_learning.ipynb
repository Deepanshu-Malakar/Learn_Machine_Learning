{
  "nbformat": 4,
  "nbformat_minor": 0,
  "metadata": {
    "colab": {
      "provenance": [],
      "gpuType": "T4",
      "authorship_tag": "ABX9TyNwovEp+IRdJzZQ0eEFcN0B",
      "include_colab_link": true
    },
    "kernelspec": {
      "name": "python3",
      "display_name": "Python 3"
    },
    "language_info": {
      "name": "python"
    },
    "accelerator": "GPU"
  },
  "cells": [
    {
      "cell_type": "markdown",
      "metadata": {
        "id": "view-in-github",
        "colab_type": "text"
      },
      "source": [
        "<a href=\"https://colab.research.google.com/github/Deepanshu-Malakar/Learn_Machine_Learning/blob/main/intro_to_machine_learning.ipynb\" target=\"_parent\"><img src=\"https://colab.research.google.com/assets/colab-badge.svg\" alt=\"Open In Colab\"/></a>"
      ]
    },
    {
      "cell_type": "code",
      "execution_count": 2,
      "metadata": {
        "id": "LKFqO6Wd0ONB",
        "colab": {
          "base_uri": "https://localhost:8080/"
        },
        "outputId": "513980f3-121a-42f7-96c2-22b08b05d6c8"
      },
      "outputs": [
        {
          "output_type": "stream",
          "name": "stdout",
          "text": [
            "2.4.0+cu121\n"
          ]
        }
      ],
      "source": [
        "import torch\n",
        "import numpy as np\n",
        "import pandas as pd\n",
        "import matplotlib.pyplot as plt\n",
        "print(torch.__version__)\n",
        "\n"
      ]
    },
    {
      "cell_type": "code",
      "source": [
        "#introduction\n",
        "scalar=torch.tensor(7)\n",
        "print(scalar)"
      ],
      "metadata": {
        "colab": {
          "base_uri": "https://localhost:8080/"
        },
        "id": "RmOjq1NN00O3",
        "outputId": "c591b4cb-9498-47e7-fd12-e414258be3b7"
      },
      "execution_count": 3,
      "outputs": [
        {
          "output_type": "stream",
          "name": "stdout",
          "text": [
            "tensor(7)\n"
          ]
        }
      ]
    },
    {
      "cell_type": "markdown",
      "source": [
        "Properties of Scalars"
      ],
      "metadata": {
        "id": "uhVrfox7auLH"
      }
    },
    {
      "cell_type": "code",
      "source": [
        "#to get dimension of tensor\n",
        "print(\"dimension of scalar is :\",scalar.ndim)\n",
        "#to get tensor back as integer\n",
        "print(\"value of scalar is: \",scalar.item())"
      ],
      "metadata": {
        "id": "9MXNiSNw1INc",
        "colab": {
          "base_uri": "https://localhost:8080/"
        },
        "outputId": "0a88ce1c-340a-40c1-ce07-57e7c5cdb530"
      },
      "execution_count": 4,
      "outputs": [
        {
          "output_type": "stream",
          "name": "stdout",
          "text": [
            "dimension of scalar is : 0\n",
            "value of scalar is:  7\n"
          ]
        }
      ]
    },
    {
      "cell_type": "markdown",
      "source": [
        "vector"
      ],
      "metadata": {
        "id": "qTa3yY0ub60m"
      }
    },
    {
      "cell_type": "code",
      "source": [
        "vector=torch.tensor([7,7])\n",
        "print(vector)\n",
        "print(\"dimension of vector :\",vector.ndim)\n",
        "print(\"shape of vector : \",vector.shape)\n",
        "vector2=torch.tensor([[2,4,3],\n",
        "                     [4,5,3]])\n",
        "print(vector2)\n",
        "print(\"dimension of vector2 :\",vector2.ndim)\n",
        "print(\"shape of vector2 : \",vector2.shape)"
      ],
      "metadata": {
        "colab": {
          "base_uri": "https://localhost:8080/"
        },
        "id": "oMO73v7Qb5jP",
        "outputId": "351ac7dc-b523-4265-fce4-a2af2bacac8b"
      },
      "execution_count": 5,
      "outputs": [
        {
          "output_type": "stream",
          "name": "stdout",
          "text": [
            "tensor([7, 7])\n",
            "dimension of vector : 1\n",
            "shape of vector :  torch.Size([2])\n",
            "tensor([[2, 4, 3],\n",
            "        [4, 5, 3]])\n",
            "dimension of vector2 : 2\n",
            "shape of vector2 :  torch.Size([2, 3])\n"
          ]
        }
      ]
    },
    {
      "cell_type": "markdown",
      "source": [
        "Random tensors\n"
      ],
      "metadata": {
        "id": "ZMerzKtuRX0M"
      }
    },
    {
      "cell_type": "code",
      "source": [
        "random_tensor = torch.rand(4,3,3)\n",
        "print(random_tensor)"
      ],
      "metadata": {
        "colab": {
          "base_uri": "https://localhost:8080/"
        },
        "id": "t8AaiY2zRXLk",
        "outputId": "1325478b-9965-498e-b22d-af44a7444f44"
      },
      "execution_count": 6,
      "outputs": [
        {
          "output_type": "stream",
          "name": "stdout",
          "text": [
            "tensor([[[0.7381, 0.5394, 0.3507],\n",
            "         [0.0861, 0.5097, 0.7559],\n",
            "         [0.7506, 0.8077, 0.4990]],\n",
            "\n",
            "        [[0.1851, 0.0138, 0.9520],\n",
            "         [0.3898, 0.0571, 0.7660],\n",
            "         [0.4972, 0.1974, 0.1110]],\n",
            "\n",
            "        [[0.0412, 0.4118, 0.3240],\n",
            "         [0.5922, 0.0600, 0.2629],\n",
            "         [0.8148, 0.3520, 0.7463]],\n",
            "\n",
            "        [[0.8039, 0.8597, 0.2476],\n",
            "         [0.8155, 0.5481, 0.1950],\n",
            "         [0.8679, 0.8321, 0.1402]]])\n"
          ]
        }
      ]
    },
    {
      "cell_type": "markdown",
      "source": [
        "Image tensor"
      ],
      "metadata": {
        "id": "LJrKtZziTDjW"
      }
    },
    {
      "cell_type": "code",
      "source": [
        "random_image_tensor=torch.rand(size=(224,224,3)) #height width color_channels(rgb)\n",
        "print(\"shape: \",random_image_tensor.shape)\n",
        "print(\"dimension: \",random_image_tensor.ndim)"
      ],
      "metadata": {
        "colab": {
          "base_uri": "https://localhost:8080/"
        },
        "id": "iEunC9EfTG-C",
        "outputId": "0de21989-24d0-4c33-a3f3-7c0ef1dda3fe"
      },
      "execution_count": 7,
      "outputs": [
        {
          "output_type": "stream",
          "name": "stdout",
          "text": [
            "shape:  torch.Size([224, 224, 3])\n",
            "dimension:  3\n"
          ]
        }
      ]
    },
    {
      "cell_type": "markdown",
      "source": [
        "**Zeroes and Ones**"
      ],
      "metadata": {
        "id": "xSHn9i1TUeba"
      }
    },
    {
      "cell_type": "code",
      "source": [
        "zeroes=torch.zeros(3,4)\n",
        "ones=torch.ones(3,4)\n",
        "print(zeroes)\n",
        "print(\"\\n\")\n",
        "print(ones)\n"
      ],
      "metadata": {
        "colab": {
          "base_uri": "https://localhost:8080/"
        },
        "id": "X-moz0JuUdth",
        "outputId": "7fda44e7-f1af-4717-84d2-2eaed52ee4ac"
      },
      "execution_count": 8,
      "outputs": [
        {
          "output_type": "stream",
          "name": "stdout",
          "text": [
            "tensor([[0., 0., 0., 0.],\n",
            "        [0., 0., 0., 0.],\n",
            "        [0., 0., 0., 0.]])\n",
            "\n",
            "\n",
            "tensor([[1., 1., 1., 1.],\n",
            "        [1., 1., 1., 1.],\n",
            "        [1., 1., 1., 1.]])\n"
          ]
        }
      ]
    },
    {
      "cell_type": "markdown",
      "source": [
        "Creating Range of tensors"
      ],
      "metadata": {
        "id": "-XKP60YVV1aG"
      }
    },
    {
      "cell_type": "code",
      "source": [
        "#use torch.arange(start,end,step)   creates an AP with a=start an=end d=step\n",
        "#  doesnot include the end element\n",
        "range1=torch.arange(start=1,end=21,step=2)\n",
        "print(range1)\n",
        "range2=torch.arange(start=5,end=32,step=4)\n",
        "print(range2)"
      ],
      "metadata": {
        "colab": {
          "base_uri": "https://localhost:8080/"
        },
        "id": "ouv7ipUvV02j",
        "outputId": "589d7068-800a-40a1-f684-2cef79690392"
      },
      "execution_count": 9,
      "outputs": [
        {
          "output_type": "stream",
          "name": "stdout",
          "text": [
            "tensor([ 1,  3,  5,  7,  9, 11, 13, 15, 17, 19])\n",
            "tensor([ 5,  9, 13, 17, 21, 25, 29])\n"
          ]
        }
      ]
    },
    {
      "cell_type": "markdown",
      "source": [
        "Tensors like (creating a tensor with same shape like another tensor)"
      ],
      "metadata": {
        "id": "f4JWoFX4XQhf"
      }
    },
    {
      "cell_type": "code",
      "source": [
        "tensor_like=torch.rand_like(input=random_tensor)\n",
        "print(tensor_like)"
      ],
      "metadata": {
        "colab": {
          "base_uri": "https://localhost:8080/"
        },
        "id": "at0mecvdXZx5",
        "outputId": "a9d27ccd-334c-4f00-a2e1-31778291a32a"
      },
      "execution_count": 10,
      "outputs": [
        {
          "output_type": "stream",
          "name": "stdout",
          "text": [
            "tensor([[[0.5022, 0.1645, 0.2412],\n",
            "         [0.7365, 0.6141, 0.4867],\n",
            "         [0.9474, 0.7910, 0.0257]],\n",
            "\n",
            "        [[0.6388, 0.8525, 0.1172],\n",
            "         [0.2415, 0.1868, 0.9572],\n",
            "         [0.6839, 0.8922, 0.6620]],\n",
            "\n",
            "        [[0.1571, 0.3223, 0.6591],\n",
            "         [0.3043, 0.4206, 0.1749],\n",
            "         [0.7749, 0.5894, 0.6543]],\n",
            "\n",
            "        [[0.1144, 0.5178, 0.6658],\n",
            "         [0.2549, 0.0770, 0.9814],\n",
            "         [0.6947, 0.5770, 0.2638]]])\n"
          ]
        }
      ]
    },
    {
      "cell_type": "markdown",
      "source": [
        "**Getting Information from tensors**\n",
        "1)Tensor Manupulation *(Tensor operations)*"
      ],
      "metadata": {
        "id": "WakUwtKJ_2Ke"
      }
    },
    {
      "cell_type": "code",
      "source": [
        "t=torch.tensor([1,2,3,4])\n",
        "print(\"tensor: \",t)\n",
        "print(\"tensor + 1: \",t+1)\n",
        "print(\"tensor - 1: \",t-1)\n",
        "print(\"tensor * 10: \",t*10)\n",
        "print(\"tensor / 10: \",t/10)\n"
      ],
      "metadata": {
        "colab": {
          "base_uri": "https://localhost:8080/"
        },
        "id": "W9XYw6aT_7Mk",
        "outputId": "8b20e4a9-7161-4f5e-c146-12bf6e06b0d5"
      },
      "execution_count": 11,
      "outputs": [
        {
          "output_type": "stream",
          "name": "stdout",
          "text": [
            "tensor:  tensor([1, 2, 3, 4])\n",
            "tensor + 1:  tensor([2, 3, 4, 5])\n",
            "tensor - 1:  tensor([0, 1, 2, 3])\n",
            "tensor * 10:  tensor([10, 20, 30, 40])\n",
            "tensor / 10:  tensor([0.1000, 0.2000, 0.3000, 0.4000])\n"
          ]
        }
      ]
    },
    {
      "cell_type": "markdown",
      "source": [
        "Matrix Multiplication"
      ],
      "metadata": {
        "id": "S-O6RFt-CRbP"
      }
    },
    {
      "cell_type": "code",
      "source": [
        "#element wise matrix multiplication\n",
        "tensor1=torch.tensor([1,2,3])\n",
        "tensor2=torch.tensor([4,5,6])\n",
        "print(f\"{tensor1}*{tensor2}={tensor1*tensor2}\")\n"
      ],
      "metadata": {
        "colab": {
          "base_uri": "https://localhost:8080/"
        },
        "id": "E7KQTQL7CUut",
        "outputId": "9e209842-2e4b-47ad-8583-dcbd0229b2ec"
      },
      "execution_count": 12,
      "outputs": [
        {
          "output_type": "stream",
          "name": "stdout",
          "text": [
            "tensor([1, 2, 3])*tensor([4, 5, 6])=tensor([ 4, 10, 18])\n"
          ]
        }
      ]
    },
    {
      "cell_type": "markdown",
      "source": [
        "Dot product of tensors"
      ],
      "metadata": {
        "id": "K9acs_2nI09m"
      }
    },
    {
      "cell_type": "code",
      "source": [
        "print(tensor1.matmul(tensor2))\n",
        "print(\"note that 32=4+10+18\")"
      ],
      "metadata": {
        "colab": {
          "base_uri": "https://localhost:8080/"
        },
        "id": "7FSlHpuWI400",
        "outputId": "271715c7-397d-4a68-a2c3-a0440b1f4e0e"
      },
      "execution_count": 13,
      "outputs": [
        {
          "output_type": "stream",
          "name": "stdout",
          "text": [
            "tensor(32)\n",
            "note that 32=4+10+18\n"
          ]
        }
      ]
    },
    {
      "cell_type": "code",
      "source": [
        "tensor1=torch.randint(low=0,high=5,size=(2,3))\n",
        "tensor2=torch.randint(low=0,high=5,size=(3,4))\n",
        "print(\"tensor1:\")\n",
        "print(tensor1)\n",
        "print(\"tensor2:\")\n",
        "print(tensor2)\n",
        "print(f\"tensor1 x tensor2 =\\n{tensor1.matmul(tensor2)}\")"
      ],
      "metadata": {
        "colab": {
          "base_uri": "https://localhost:8080/"
        },
        "id": "zCclFlNeJXia",
        "outputId": "c318f0b7-67c9-4fd0-c9d8-12f7ccbae11b"
      },
      "execution_count": 14,
      "outputs": [
        {
          "output_type": "stream",
          "name": "stdout",
          "text": [
            "tensor1:\n",
            "tensor([[2, 3, 3],\n",
            "        [4, 2, 2]])\n",
            "tensor2:\n",
            "tensor([[2, 4, 4, 4],\n",
            "        [3, 2, 2, 0],\n",
            "        [4, 0, 0, 4]])\n",
            "tensor1 x tensor2 =\n",
            "tensor([[25, 14, 14, 20],\n",
            "        [22, 20, 20, 24]])\n"
          ]
        }
      ]
    },
    {
      "cell_type": "markdown",
      "source": [
        "Finding min , max , mean , sum of tensors (tensor aggregation)"
      ],
      "metadata": {
        "id": "_oWEY7KCn-HO"
      }
    },
    {
      "cell_type": "code",
      "source": [
        "print(\"tensor: \")\n",
        "print(tensor1)\n",
        "print(f\"min : {tensor1.min()}\")\n",
        "print(f\"max : {tensor1.max()}\")\n",
        "print(f\"mean : {tensor1.type(torch.float32).mean()}\")   #note mean requires float32 type tensor\n",
        "\n",
        "#to change data type of a tensor write\n",
        "print(\"float 32 tensor is: \")\n",
        "print(tensor1.type(torch.float32))"
      ],
      "metadata": {
        "id": "9qRgQTneoH86",
        "colab": {
          "base_uri": "https://localhost:8080/"
        },
        "outputId": "ade71030-fef7-4d9e-cd04-69d0d12dc6ee"
      },
      "execution_count": 15,
      "outputs": [
        {
          "output_type": "stream",
          "name": "stdout",
          "text": [
            "tensor: \n",
            "tensor([[2, 3, 3],\n",
            "        [4, 2, 2]])\n",
            "min : 2\n",
            "max : 4\n",
            "mean : 2.6666667461395264\n",
            "float 32 tensor is: \n",
            "tensor([[2., 3., 3.],\n",
            "        [4., 2., 2.]])\n"
          ]
        }
      ]
    },
    {
      "cell_type": "markdown",
      "source": [
        "# **Positional min and max**\n",
        "find the position of minimum and maximum element in the tensor.\n",
        "use argmin() and argmax() functions"
      ],
      "metadata": {
        "id": "d9l9ME6gW4Sv"
      }
    },
    {
      "cell_type": "code",
      "source": [
        "print(f\"tensor:\\n{tensor1}\")\n",
        "print(f\"min index : {tensor1.argmin()} and minimum element is {tensor1.min()}\")\n",
        "print(f\"max index : {tensor1.argmax()} and maximum element is {tensor1.max()}\")\n",
        "\n",
        "tensor2=torch.tensor([[1,3,5],\n",
        "                      [6,1,3]])\n",
        "print(\"\\n\")\n",
        "print(f\"tensor:\\n{tensor2}\")\n",
        "print(f\"min index : {tensor2.argmin()} and minimum element is {tensor2.min()}\")\n",
        "print(f\"max index : {tensor2.argmax()} and maximum element is {tensor2.max()}\")\n"
      ],
      "metadata": {
        "colab": {
          "base_uri": "https://localhost:8080/"
        },
        "id": "PqSyjVQlWqMx",
        "outputId": "3cb1dafd-3dd0-42dc-c68c-47bcddab6724"
      },
      "execution_count": 16,
      "outputs": [
        {
          "output_type": "stream",
          "name": "stdout",
          "text": [
            "tensor:\n",
            "tensor([[2, 3, 3],\n",
            "        [4, 2, 2]])\n",
            "min index : 0 and minimum element is 2\n",
            "max index : 3 and maximum element is 4\n",
            "\n",
            "\n",
            "tensor:\n",
            "tensor([[1, 3, 5],\n",
            "        [6, 1, 3]])\n",
            "min index : 0 and minimum element is 1\n",
            "max index : 3 and maximum element is 6\n"
          ]
        }
      ]
    },
    {
      "cell_type": "markdown",
      "source": [
        "#reshaping stacking squezing and unsquezing tensors\n",
        "\n",
        "\n",
        "1.   **reshaping** - change the shape of tensor to a new shape\n",
        "2. **view** - view a tensor in new shape but it change the original tensor\n",
        "3.   **stacking** - combining multiple tensors on top of each other-(vstack)   side by side-(hstack)\n",
        "4.  **squeze**- remove 1 dimension from tensor\n",
        "5.  **unsqueze** - add 1 dimension to a tensor\n",
        "6. **permute**- return the view of input with dimensions permutted i,e swapped in a certain way.\n",
        "\n"
      ],
      "metadata": {
        "id": "riKyeRPZc9_h"
      }
    },
    {
      "cell_type": "code",
      "source": [
        "x=torch.arange(1,10,1)\n",
        "print(x)\n",
        "y=x.reshape(3,3) #note new dimensions must be compatible with the old dimensions you cannot provide new dimensions like  1,7 since 1*7=7 and we have 9 elements in our tensor\n",
        "print(\"tensor reshaped as (3,3)\")\n",
        "print(y)"
      ],
      "metadata": {
        "colab": {
          "base_uri": "https://localhost:8080/"
        },
        "id": "qOt7ABkGe6Ix",
        "outputId": "8900947a-988e-412f-aafd-54a519f98634"
      },
      "execution_count": 17,
      "outputs": [
        {
          "output_type": "stream",
          "name": "stdout",
          "text": [
            "tensor([1, 2, 3, 4, 5, 6, 7, 8, 9])\n",
            "tensor reshaped as (3,3)\n",
            "tensor([[1, 2, 3],\n",
            "        [4, 5, 6],\n",
            "        [7, 8, 9]])\n"
          ]
        }
      ]
    },
    {
      "cell_type": "code",
      "source": [
        "#view\n",
        "print(x)\n",
        "z=x.view(3,3)\n",
        "print(x)\n",
        "print(z)\n",
        "z[0]=5\n",
        "print(x)\n",
        "print(z)\n",
        "#x and z shares the same location and hence changing z will change x"
      ],
      "metadata": {
        "colab": {
          "base_uri": "https://localhost:8080/"
        },
        "id": "lYCaoGWQitEu",
        "outputId": "0b38c877-ebbb-4d68-820f-8e69bdd1b3bd"
      },
      "execution_count": 18,
      "outputs": [
        {
          "output_type": "stream",
          "name": "stdout",
          "text": [
            "tensor([1, 2, 3, 4, 5, 6, 7, 8, 9])\n",
            "tensor([1, 2, 3, 4, 5, 6, 7, 8, 9])\n",
            "tensor([[1, 2, 3],\n",
            "        [4, 5, 6],\n",
            "        [7, 8, 9]])\n",
            "tensor([5, 5, 5, 4, 5, 6, 7, 8, 9])\n",
            "tensor([[5, 5, 5],\n",
            "        [4, 5, 6],\n",
            "        [7, 8, 9]])\n"
          ]
        }
      ]
    },
    {
      "cell_type": "code",
      "source": [
        "#stack tensors on top of each other\n",
        "print(x,\"\\n\")\n",
        "z=torch.stack([x,x])\n",
        "print(z,\"\\n\")\n",
        "z=torch.stack([x,x,x])\n",
        "print(z,\"\\n\")\n",
        "z=torch.stack([x,x],dim=1)\n",
        "print(z,\"\\n\")\n",
        "z=torch.stack([x,x,x],dim=1)\n",
        "print(z,\"\\n\")"
      ],
      "metadata": {
        "colab": {
          "base_uri": "https://localhost:8080/"
        },
        "id": "d1o2tQB-kVjM",
        "outputId": "f6f8cd7e-c419-4838-b33f-10327c51e9a1"
      },
      "execution_count": 19,
      "outputs": [
        {
          "output_type": "stream",
          "name": "stdout",
          "text": [
            "tensor([5, 5, 5, 4, 5, 6, 7, 8, 9]) \n",
            "\n",
            "tensor([[5, 5, 5, 4, 5, 6, 7, 8, 9],\n",
            "        [5, 5, 5, 4, 5, 6, 7, 8, 9]]) \n",
            "\n",
            "tensor([[5, 5, 5, 4, 5, 6, 7, 8, 9],\n",
            "        [5, 5, 5, 4, 5, 6, 7, 8, 9],\n",
            "        [5, 5, 5, 4, 5, 6, 7, 8, 9]]) \n",
            "\n",
            "tensor([[5, 5],\n",
            "        [5, 5],\n",
            "        [5, 5],\n",
            "        [4, 4],\n",
            "        [5, 5],\n",
            "        [6, 6],\n",
            "        [7, 7],\n",
            "        [8, 8],\n",
            "        [9, 9]]) \n",
            "\n",
            "tensor([[5, 5, 5],\n",
            "        [5, 5, 5],\n",
            "        [5, 5, 5],\n",
            "        [4, 4, 4],\n",
            "        [5, 5, 5],\n",
            "        [6, 6, 6],\n",
            "        [7, 7, 7],\n",
            "        [8, 8, 8],\n",
            "        [9, 9, 9]]) \n",
            "\n"
          ]
        }
      ]
    },
    {
      "cell_type": "code",
      "source": [
        "#squezing tensors\n",
        "print(x,\"\\n\")\n",
        "z=x+2\n",
        "z=torch.stack([x,z,z*2])\n",
        "print(z,\"\\n\")\n",
        "print(z.squeeze(),\"\\n\")\n",
        "z=z.reshape(1,3,9)\n",
        "print(z,\"\\n\")\n",
        "z=z.squeeze()\n",
        "print(z,\"\\n\")\n"
      ],
      "metadata": {
        "colab": {
          "base_uri": "https://localhost:8080/"
        },
        "id": "k8MsDwtymt5q",
        "outputId": "0bca6097-b4e5-4aed-e332-6601d45bd75e"
      },
      "execution_count": 21,
      "outputs": [
        {
          "output_type": "stream",
          "name": "stdout",
          "text": [
            "tensor([5, 5, 5, 4, 5, 6, 7, 8, 9]) \n",
            "\n",
            "tensor([[ 5,  5,  5,  4,  5,  6,  7,  8,  9],\n",
            "        [ 7,  7,  7,  6,  7,  8,  9, 10, 11],\n",
            "        [14, 14, 14, 12, 14, 16, 18, 20, 22]]) \n",
            "\n",
            "tensor([[ 5,  5,  5,  4,  5,  6,  7,  8,  9],\n",
            "        [ 7,  7,  7,  6,  7,  8,  9, 10, 11],\n",
            "        [14, 14, 14, 12, 14, 16, 18, 20, 22]]) \n",
            "\n",
            "tensor([[[ 5,  5,  5,  4,  5,  6,  7,  8,  9],\n",
            "         [ 7,  7,  7,  6,  7,  8,  9, 10, 11],\n",
            "         [14, 14, 14, 12, 14, 16, 18, 20, 22]]]) \n",
            "\n",
            "tensor([[ 5,  5,  5,  4,  5,  6,  7,  8,  9],\n",
            "        [ 7,  7,  7,  6,  7,  8,  9, 10, 11],\n",
            "        [14, 14, 14, 12, 14, 16, 18, 20, 22]]) \n",
            "\n"
          ]
        }
      ]
    },
    {
      "cell_type": "code",
      "source": [
        "#unsqueze\n",
        "tensor=torch.randint(low=5,high=45,size=(3,4))\n",
        "print(f\"original tensor: \\n{tensor} \\nshape={tensor.shape}\")\n",
        "print(f\"unsquezed at dim 0:\\n{tensor.unsqueeze(dim=0)}\\nshape = {tensor.unsqueeze(dim=0).shape}\")\n",
        "print(f\"unsquezed at dim 1:\\n{tensor.unsqueeze(dim=1)}\\nshape = {tensor.unsqueeze(dim=1).shape}\")"
      ],
      "metadata": {
        "colab": {
          "base_uri": "https://localhost:8080/"
        },
        "id": "WUj7tQ5NGNTJ",
        "outputId": "24db0ada-3121-4937-88e1-64557a3f855d"
      },
      "execution_count": 24,
      "outputs": [
        {
          "output_type": "stream",
          "name": "stdout",
          "text": [
            "original tensor: \n",
            "tensor([[28, 17, 12, 10],\n",
            "        [35, 16, 34, 40],\n",
            "        [11, 13, 26, 11]]) \n",
            "shape=torch.Size([3, 4])\n",
            "unsquezed at dim 0:\n",
            "tensor([[[28, 17, 12, 10],\n",
            "         [35, 16, 34, 40],\n",
            "         [11, 13, 26, 11]]])\n",
            "shape = torch.Size([1, 3, 4])\n",
            "unsquezed at dim 1:\n",
            "tensor([[[28, 17, 12, 10]],\n",
            "\n",
            "        [[35, 16, 34, 40]],\n",
            "\n",
            "        [[11, 13, 26, 11]]])\n",
            "shape = torch.Size([3, 1, 4])\n"
          ]
        }
      ]
    },
    {
      "cell_type": "markdown",
      "source": [
        "#**Permute**\n",
        "permute changes the order of dimensions of a tensor<br>\n",
        "**Example:**<br>\n",
        "For an image tensor, we write torch.rand(size=(244,244,3)) i,e height,width, and color channels.<br>\n",
        "For some reason now you want it as color channel,width,height ,<br>\n",
        "you can do this using **permute**<br>\n",
        "**note :**<br>\n",
        " if you change anything in the permuted tensor, the original tensor will change as well"
      ],
      "metadata": {
        "id": "eE-TZiX6IlY5"
      }
    },
    {
      "cell_type": "code",
      "source": [
        "x=torch.rand(size=(255,255,3))\n",
        "print(f\"shape of tensor: {x.shape}\")\n",
        "x_permuted=x.permute(2,0,1)\n",
        "print(f\"shape of permuted tensor: {x_permuted.shape}\\n\")\n",
        "y=torch.rand(3,2,1)\n",
        "print(f\"shape of original tensor: {y.shape}\")\n",
        "y_permuted=y.permute(2,0,1)  #2nd dimension becomes 0th dimension , 0th becomes 1st and 1st becomes 2nd dimension\n",
        "print(f\"shape of permuted tensor: {y_permuted.shape}\")"
      ],
      "metadata": {
        "colab": {
          "base_uri": "https://localhost:8080/"
        },
        "id": "QlRoc2YAJf6n",
        "outputId": "065b2ae9-3178-41d3-9aa6-be2a2b713002"
      },
      "execution_count": 27,
      "outputs": [
        {
          "output_type": "stream",
          "name": "stdout",
          "text": [
            "shape of tensor: torch.Size([255, 255, 3])\n",
            "shape of permuted tensor: torch.Size([3, 255, 255])\n",
            "\n",
            "shape of original tensor: torch.Size([3, 2, 1])\n",
            "shape of permuted tensor: torch.Size([1, 3, 2])\n"
          ]
        }
      ]
    }
  ]
}